{
 "cells": [
  {
   "cell_type": "code",
   "execution_count": null,
   "metadata": {},
   "outputs": [],
   "source": [
    "import sympy as sp"
   ]
  },
  {
   "cell_type": "code",
   "execution_count": null,
   "metadata": {},
   "outputs": [],
   "source": [
    "x1 = sp.symbols('x1')\n",
    "x2 = sp.symbols('x2')\n",
    "\n",
    "f = x1*x2\n",
    "\n",
    "df = sp.Matrix([[sp.diff(f, x1)],\n",
    "                 [sp.diff(f, x2)]])\n"
   ]
  },
  {
   "cell_type": "code",
   "execution_count": null,
   "metadata": {},
   "outputs": [
    {
     "data": {
      "text/latex": [
       "$\\displaystyle \\left[\\begin{matrix}-1.0\\end{matrix}\\right]$"
      ],
      "text/plain": [
       "Matrix([[-1.0]])"
      ]
     },
     "metadata": {},
     "output_type": "display_data"
    }
   ],
   "source": [
    "s = sp.Matrix([[-1],\n",
    "               [-1]])\n",
    "dfs = sp.transpose(sp.N(sp.Subs(df, [x1,x2], [1,0])))*s\n",
    "sp.N(dfs)"
   ]
  }
 ],
 "metadata": {
  "language_info": {
   "name": "python"
  }
 },
 "nbformat": 4,
 "nbformat_minor": 2
}
